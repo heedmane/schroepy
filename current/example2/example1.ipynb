{
 "metadata": {
  "name": "",
  "signature": "sha256:aca118a5e0369467c82ade0301b870600e905201e7d144c14a4772c3b176e573"
 },
 "nbformat": 3,
 "nbformat_minor": 0,
 "worksheets": [
  {
   "cells": [
    {
     "cell_type": "heading",
     "level": 1,
     "metadata": {},
     "source": [
      "Example 0"
     ]
    },
    {
     "cell_type": "markdown",
     "metadata": {},
     "source": [
      "This example use the basic usage of the SChroe.py script"
     ]
    },
    {
     "cell_type": "code",
     "collapsed": false,
     "input": [
      "%matplotlib inline"
     ],
     "language": "python",
     "metadata": {},
     "outputs": [],
     "prompt_number": 1
    },
    {
     "cell_type": "code",
     "collapsed": false,
     "input": [],
     "language": "python",
     "metadata": {},
     "outputs": []
    }
   ],
   "metadata": {}
  }
 ]
}